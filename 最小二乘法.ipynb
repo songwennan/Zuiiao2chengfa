{
 "cells": [
  {
   "cell_type": "code",
   "execution_count": 1,
   "metadata": {
    "scrolled": false
   },
   "outputs": [
    {
     "name": "stdout",
     "output_type": "stream",
     "text": [
      "第一组数值 用空格分开：2\n",
      "第二组数值 用空格分开：2\n",
      "nan\n"
     ]
    },
    {
     "name": "stderr",
     "output_type": "stream",
     "text": [
      "<ipython-input-1-1d107f851b22>:20: RuntimeWarning: invalid value encountered in double_scalars\n",
      "  print(\"{}\".format(sum0/sum1))\n"
     ]
    }
   ],
   "source": [
    "import numpy as np\n",
    "\n",
    "x=input(\"第一组数值 用空格分开：\")\n",
    "y=input(\"第二组数值 用空格分开：\")\n",
    "sum0=0\n",
    "sum1=0\n",
    "num1=x.split(\" \")\n",
    "num2=y.split(\" \")\n",
    "num1= [int(num1[i])for i in range(len(num1))]\n",
    "num2= [int(num2[i])for i in range(len(num2))]\n",
    "Px = np.mean(num1)\n",
    "Py = np.mean(num2)\n",
    "for i in range(len(num1)):\n",
    "    y0=num2[i]\n",
    "    x0=num1[i]\n",
    "    R0=(x0-Px)*(y0-Py)\n",
    "    R=(x0-Px)**2\n",
    "    sum0+=R0\n",
    "    sum1+=R\n",
    "print(\"{}\".format(sum0/sum1))"
   ]
  },
  {
   "cell_type": "markdown",
   "metadata": {},
   "source": [
    "以上是求 最小二乘法 "
   ]
  },
  {
   "cell_type": "markdown",
   "metadata": {},
   "source": [
    "# "
   ]
  }
 ],
 "metadata": {
  "kernelspec": {
   "display_name": "Python 3",
   "language": "python",
   "name": "python3"
  },
  "language_info": {
   "codemirror_mode": {
    "name": "ipython",
    "version": 3
   },
   "file_extension": ".py",
   "mimetype": "text/x-python",
   "name": "python",
   "nbconvert_exporter": "python",
   "pygments_lexer": "ipython3",
   "version": "3.8.5"
  }
 },
 "nbformat": 4,
 "nbformat_minor": 4
}
